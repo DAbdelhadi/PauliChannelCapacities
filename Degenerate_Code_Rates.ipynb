{
 "cells": [
  {
   "cell_type": "code",
   "outputs": [],
   "source": [
    "import numpy as np\n",
    "from symplectic_encoding import generate_a_symplectic_encoding_matrix\n",
    "from qecsim import paulitools as pt\n",
    "import matplotlib.pyplot as plt"
   ],
   "metadata": {
    "collapsed": false,
    "ExecuteTime": {
     "end_time": "2024-03-29T18:48:43.517510Z",
     "start_time": "2024-03-29T18:48:43.511912Z"
    }
   },
   "id": "f5d4ae49c292d325",
   "execution_count": 51
  },
  {
   "cell_type": "markdown",
   "source": [
    "## In this notebook, we wish to compute the rate of a code composed of concatenating a finite-sized stabilizer code with a random stabilizer code, in a scheme similar to the one proposed in [1], where we replace repetition code with other stabilizer codes. "
   ],
   "metadata": {
    "collapsed": false
   },
   "id": "bf7fa75f4a980106"
  },
  {
   "cell_type": "markdown",
   "source": [
    "Consider concatenating an $[[n,k,d]]$ with a random stabilizer code, used on a noisy Pauli channel $\\mathcal{E}$, the resulting rate will be: $$\\frac{1}{n}\\sum_{x\\in\\{0,1\\}^{n-k}}p(\\text{syndrome}=x)I_c(\\mathcal{E}^{x}), $$ where $I_c$ is the coherent information of the channel, and $\\mathcal{E}^x$ is the induced channel when the syndrome $x$ is measured.\n",
    "[1] Degenerate Quantum Codes for Pauli Channels. Graeme Smith, John A. Smolin. https://arxiv.org/abs/quant-ph/0604107."
   ],
   "metadata": {
    "collapsed": false
   },
   "id": "2f0bbeecf2fd3aa"
  },
  {
   "cell_type": "markdown",
   "source": [
    "For a general $[[n,k,d]]$ stabilizer code, the effective channel can be computed by finding the probability of each logical class given the syndrome $P(L=l|x)$. The coherent information of the induced channel will be at least $k-\\text{entropy}[P(L|x)]$.\n",
    "Thus, our task is to compute the probability of each logical class given the syndrome $P(L=l|x) = \\frac{P(L=l,x)}{\\sum_{l\\in \\text{Logicals}}P(L=l,x)}$.\n",
    "Let $t(x)$ denote the true error corresponding to the syndrome $x$. Let $a*b$ denote the matrix product of $a,b$. We need to compute $P(L=l,x) = \\sum_{s\\in \\text{Stabilizers}}P(E=l*s*t(x)).$ We can also do this more efficiently in terms of the symplectic formalism, where Pauli strings of length $n$ are represented by $2n$-dimensional binary vectors, and multiplying two Pauli strings is equivalent to adding their symplectic representations (modulo 2)."
   ],
   "metadata": {
    "collapsed": false
   },
   "id": "44aee4f5029431cf"
  },
  {
   "cell_type": "code",
   "outputs": [],
   "source": [
    "def entropy(p):\n",
    "    \"\"\"\n",
    "    Computes the entropy of a probability distribution\n",
    "\n",
    "    Args:\n",
    "        p: an array of probabilities that sum to 1\n",
    "\n",
    "    Returns: the entropy of the distribution\n",
    "\n",
    "    \"\"\"\n",
    "    # Make sure input is a numpy array\n",
    "    p = np.array(p)\n",
    "    # Make sure the distribution sums to 1\n",
    "    assert np.isclose(p.sum(), 1.0)\n",
    "    # Make sure all probabilities are non-negative\n",
    "    assert np.all(np.isclose(p-abs(p),0))\n",
    "\n",
    "    # Compute the entropy\n",
    "    e = 0\n",
    "    for pi in p:\n",
    "        if not np.isclose(pi,0):\n",
    "            e -= pi * np.log2(pi)\n",
    "    #assert(e>=0)\n",
    "    return e\n"
   ],
   "metadata": {
    "collapsed": false,
    "ExecuteTime": {
     "end_time": "2024-03-29T18:48:43.628456Z",
     "start_time": "2024-03-29T18:48:43.618255Z"
    }
   },
   "id": "640b01dcf24c09f",
   "execution_count": 52
  },
  {
   "cell_type": "markdown",
   "source": [
    "#### First: express the matrix of stabilizer generators of some code in the symplectic representation (for e.g., a code from http://www.codetables.de/). "
   ],
   "metadata": {
    "collapsed": false
   },
   "id": "eadfc4b32fa91b97"
  },
  {
   "cell_type": "code",
   "outputs": [
    {
     "name": "stdout",
     "output_type": "stream",
     "text": [
      "n: 4 k: 2\n"
     ]
    }
   ],
   "source": [
    "# [[4,2,2]] code https://errorcorrectionzoo.org/c/stab_4_2_2\n",
    "data_str = \"\"\"\n",
    "[1 1 1 1|0 0 0 0]\n",
    "[0 0 0 0|1 1 1 1]\n",
    "\"\"\"\n",
    "# Remove brackets and split into rows\n",
    "rows = data_str.strip().split('\\n')\n",
    "# Convert each row into a single integer array\n",
    "arrays = []\n",
    "for row in rows:\n",
    "    array = np.array(list(map(int, row.strip('[]').replace('|', ' ').split())))\n",
    "    arrays.append(array)\n",
    "\n",
    "stabilizers_bsf=arrays #stabilizer generators in binary symplectic form\n",
    "\n",
    "n = len(stabilizers_bsf[0])//2\n",
    "n_k = len(stabilizers_bsf)\n",
    "k = n-n_k\n",
    "print('n:',n,'k:',k)"
   ],
   "metadata": {
    "collapsed": false,
    "ExecuteTime": {
     "end_time": "2024-03-29T18:48:43.667041Z",
     "start_time": "2024-03-29T18:48:43.658659Z"
    }
   },
   "id": "f7436347a880af35",
   "execution_count": 53
  },
  {
   "cell_type": "markdown",
   "source": [
    "#### Next, we generate the symplectic encoding matrix $C$ for the code. Let $x\\in \\mathbb{F}_2^{2n}$ be a row vector which is the symplectic representation of an unencoded Pauli operator input. The encoded Pauli operator is given by $xC$. This corresponds to applying the corresponding encoding unitary $U_C$ to the corresponding unencoded Pauli operator $P_x$, obtaining $U_C P_x U_C^\\dagger$."
   ],
   "metadata": {
    "collapsed": false
   },
   "id": "4fc887a450ca5616"
  },
  {
   "cell_type": "code",
   "outputs": [],
   "source": [
    "C = generate_a_symplectic_encoding_matrix(n, k, stabilizers_bsf)"
   ],
   "metadata": {
    "collapsed": false,
    "ExecuteTime": {
     "end_time": "2024-03-29T18:48:43.690584Z",
     "start_time": "2024-03-29T18:48:43.682136Z"
    }
   },
   "id": "9e62c646e58c5d77",
   "execution_count": 54
  },
  {
   "cell_type": "markdown",
   "source": [
    "### For $n$ qubits, there are $4^n$ Pauli strings. \n",
    "<pre> Unencoded $P_x$ or $x$                   Encoded $U_C P_x U_C^\\dagger$ or $xC$                  \n",
    "----------------------------------------------------------------------------------------------\n",
    "$X_1,\\dots,X_k$                               Generators of X-Logicals \n",
    "$X_{k+1},\\dots,X_n$                           Generators of 'True' Errors \n",
    "$Z_1,\\dots,Z_k$                               Generators of Z-Logicals\n",
    "$Z_{k+1},\\dots,Z_n$                           Generators of Stabilizers\n",
    " </pre>\n",
    " ### We compute these generators in the next step:"
   ],
   "metadata": {
    "collapsed": false
   },
   "id": "40dd0192e5249c43"
  },
  {
   "cell_type": "code",
   "outputs": [],
   "source": [
    "def logical_generators_bsf(C,k):\n",
    "    \"\"\"\n",
    "    returns the generators of logical operators for a stabilizer code with a symplectic encoding matrix C of size 2n*2n, \n",
    "    where n is the number of physical qubits in the code.\n",
    "    :param C: symplectic encoding matrix\n",
    "    :param k: number of logical qubits\n",
    "    :return: list of generatots of logical operators in binary symplectic form.\n",
    "    \"\"\"\n",
    "    n = C.shape[0]//2\n",
    "    Logicals = []\n",
    "    for i in range(k):\n",
    "        XLogicalUnenc = pt.pauli_to_bsf('I'*i+'X'+'I'*(n-i-1))\n",
    "        XLogical_encoded = (XLogicalUnenc@C)%2\n",
    "        Logicals.append(XLogical_encoded)\n",
    "        \n",
    "        ZLogicalUnenc = pt.pauli_to_bsf('I'*i+'Z'+'I'*(n-i-1))\n",
    "        ZLogical_encoded = (ZLogicalUnenc@C)%2\n",
    "        Logicals.append(ZLogical_encoded)\n",
    "        \n",
    "    return Logicals\n",
    "\n",
    "def true_errors_generators_bsf(C,k):\n",
    "    \"\"\"\n",
    "    returns the generators of true error operators for a stabilizer code with a symplectic encoding matrix C of size 2n*2n, \n",
    "    where n is the number of physical qubits in the code.\n",
    "    :param C: symplectic encoding matrix\n",
    "    :param k: number of logical qubits\n",
    "    :return: list of generators of true error operators in binary symplectic form.\n",
    "    \"\"\"\n",
    "    n = C.shape[0]//2\n",
    "    TrueErrors = []\n",
    "    for i in range(k,n):\n",
    "        TrueErrorUnenc = pt.pauli_to_bsf('I'*i+'X'+'I'*(n-i-1))\n",
    "        TrueError_encoded = (TrueErrorUnenc@C)%2\n",
    "        TrueErrors.append(TrueError_encoded)     \n",
    "    return TrueErrors"
   ],
   "metadata": {
    "collapsed": false,
    "ExecuteTime": {
     "end_time": "2024-03-29T18:48:43.715309Z",
     "start_time": "2024-03-29T18:48:43.700216Z"
    }
   },
   "id": "dbe4cd00bdf0b13e",
   "execution_count": 55
  },
  {
   "cell_type": "code",
   "outputs": [],
   "source": [
    "true_error_generators = true_errors_generators_bsf(C, k)\n",
    "logical_generators = logical_generators_bsf(C, k)\n",
    "stabilizer_generators = stabilizers_bsf"
   ],
   "metadata": {
    "collapsed": false,
    "ExecuteTime": {
     "end_time": "2024-03-29T18:48:43.740818Z",
     "start_time": "2024-03-29T18:48:43.727378Z"
    }
   },
   "id": "1270fc947856d003",
   "execution_count": 56
  },
  {
   "cell_type": "code",
   "outputs": [],
   "source": [
    "def generate_group_element(group_generators, idx):\n",
    "    \"\"\"\n",
    "    returns a group element from a list of group generators.\n",
    "    :param group_generators: list of group generators\n",
    "    :param idx: index of the group element to be generated\n",
    "    :return: group element\n",
    "    \"\"\"\n",
    "    group_element = np.zeros(len(group_generators[0]),dtype=int)\n",
    "    i = 0\n",
    "    while idx>=1:\n",
    "        if idx%2 == 1:\n",
    "            group_element = (group_element+group_generators[i])%2\n",
    "        idx = idx//2\n",
    "        i += 1\n",
    "\n",
    "    return group_element"
   ],
   "metadata": {
    "collapsed": false,
    "ExecuteTime": {
     "end_time": "2024-03-29T18:48:43.783530Z",
     "start_time": "2024-03-29T18:48:43.773718Z"
    }
   },
   "id": "7f24a887e4522320",
   "execution_count": 57
  },
  {
   "cell_type": "code",
   "outputs": [],
   "source": [
    "def wLST(L,S,T): \n",
    "    # Computes the number of X's, Y's and Z's in a Pauli string E = L*S*T\n",
    "    E = (L+S+T)%2\n",
    "    E_X = E[:len(E)//2]\n",
    "    E_Z = E[len(E)//2:]\n",
    "    E_Y = E_X*E_Z\n",
    "    nY = np.sum(E_Y)\n",
    "    nX = np.sum(E_X)-nY\n",
    "    nZ = np.sum(E_Z)-nY\n",
    "    return nX,nY,nZ"
   ],
   "metadata": {
    "collapsed": false,
    "ExecuteTime": {
     "end_time": "2024-03-29T18:48:43.819155Z",
     "start_time": "2024-03-29T18:48:43.811373Z"
    }
   },
   "id": "628b4db7ac46c6f4",
   "execution_count": 58
  },
  {
   "cell_type": "code",
   "outputs": [],
   "source": [
    "def induced_channel(true_error, logical_generators, stabilizer_generators, px, py, pz):\n",
    "    \n",
    "    pLT = np.zeros(2**len(logical_generators))\n",
    "    n = len(true_error)//2\n",
    "    \n",
    "    for idL in range(2**len(logical_generators)):\n",
    "        L = generate_group_element(logical_generators, idL)\n",
    "        for idS in range(2**len(stabilizer_generators)):\n",
    "            S = generate_group_element(stabilizer_generators, idS)\n",
    "            nX,nY,nZ = wLST(L,S,true_error)\n",
    "            pLT[idL] += (1-px-py-pz)**(n-nX-nY-nZ)*px**nX*py**nY*pz**nZ     \n",
    "    pT = sum(pLT)\n",
    "    \n",
    "    if(pT == 0):\n",
    "        return 0, pLT\n",
    "    \n",
    "    pLgivenT = np.array([p/pT for p in pLT])\n",
    "    return pT, pLgivenT"
   ],
   "metadata": {
    "collapsed": false,
    "ExecuteTime": {
     "end_time": "2024-03-29T18:48:43.869174Z",
     "start_time": "2024-03-29T18:48:43.854591Z"
    }
   },
   "id": "5506834795442eed",
   "execution_count": 59
  },
  {
   "cell_type": "code",
   "outputs": [],
   "source": [
    "def rate(true_error_generators, logical_generators, stabilizer_generators, px, py, pz):    \n",
    "    n = len(true_error_generators[0])//2\n",
    "    k = len(logical_generators)//2\n",
    "    R = 0\n",
    "    for id_t in range(2**len(true_error_generators)):\n",
    "        true_error = generate_group_element(true_error_generators, id_t)\n",
    "        pT, pLgivenT = induced_channel(true_error, logical_generators, stabilizer_generators, px, py, pz)\n",
    "    \n",
    "        if(pT>0):\n",
    "            R += pT*(k-entropy(pLgivenT))\n",
    "    \n",
    "    R = R/n\n",
    "    return R\n",
    "        \n",
    "        "
   ],
   "metadata": {
    "collapsed": false,
    "ExecuteTime": {
     "end_time": "2024-03-29T18:48:43.886648Z",
     "start_time": "2024-03-29T18:48:43.873173Z"
    }
   },
   "id": "997a1c86e79f6192",
   "execution_count": 60
  },
  {
   "cell_type": "markdown",
   "source": [
    "We now plot the rates for the concatenation of a [[4,2,2]] code with a random stabilizer code, and the hashing rate when used over \n",
    "a depolarizing channel $$ \\rho\\rightarrow (1-p) \\rho + p/3 (X \\rho X + Y \\rho Y +Z \\rho Z).$$"
   ],
   "metadata": {
    "collapsed": false
   },
   "id": "f3b856002fd65e17"
  },
  {
   "cell_type": "code",
   "outputs": [
    {
     "data": {
      "text/plain": "<Figure size 640x480 with 1 Axes>",
      "image/png": "[encoded data removed]"
     },
     "metadata": {},
     "output_type": "display_data"
    }
   ],
   "source": [
    "prange = np.arange(0,0.2,0.01)\n",
    "rate_concatenation = [] \n",
    "hashing = []\n",
    "for p in prange:\n",
    "    rate_concatenation.append(rate(true_error_generators, logical_generators, stabilizer_generators, p/3, p/3, p/3))\n",
    "    hashing.append(1-entropy([1-p,p/3,p/3,p/3]))\n",
    "plt.plot(prange, rate_concatenation, label='Concatenation with [[4,2,2]] code')\n",
    "plt.plot(prange, hashing, label='Hashing')\n",
    "plt.legend()\n",
    "plt.xlabel('p')\n",
    "plt.ylabel('Rate')\n",
    "plt.grid()\n"
   ],
   "metadata": {
    "collapsed": false,
    "ExecuteTime": {
     "end_time": "2024-03-29T18:48:44.895059Z",
     "start_time": "2024-03-29T18:48:43.889940Z"
    }
   },
   "id": "2c60fd064b8b0ce6",
   "execution_count": 61
  }
 ],
 "metadata": {
  "kernelspec": {
   "display_name": "Python 3",
   "language": "python",
   "name": "python3"
  },
  "language_info": {
   "codemirror_mode": {
    "name": "ipython",
    "version": 2
   },
   "file_extension": ".py",
   "mimetype": "text/x-python",
   "name": "python",
   "nbconvert_exporter": "python",
   "pygments_lexer": "ipython2",
   "version": "2.7.6"
  }
 },
 "nbformat": 4,
 "nbformat_minor": 5
}
